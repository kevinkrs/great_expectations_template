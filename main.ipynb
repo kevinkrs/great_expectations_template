{
 "cells": [
  {
   "cell_type": "markdown",
   "id": "ac44b476",
   "metadata": {},
   "source": [
    "# Information"
   ]
  },
  {
   "cell_type": "markdown",
   "id": "84d88373",
   "metadata": {},
   "source": [
    "The folowing notebook is a completely manual setup of a _great_expectations_ pipeline. Usually many of the steps (especially setup) are fulfilled by the _great_expectations_ clientl. This notebook is only for educational reasons to get a deeper understanding on what is going on within the library."
   ]
  },
  {
   "cell_type": "markdown",
   "id": "a5f83264",
   "metadata": {},
   "source": [
    "# Setup"
   ]
  },
  {
   "cell_type": "code",
   "execution_count": 12,
   "id": "cc195261",
   "metadata": {},
   "outputs": [],
   "source": [
    "import json\n",
    "import great_expectations as ge\n",
    "import pandas as pd\n",
    "from ruamel import yaml\n",
    "from great_expectations.core.batch import BatchRequest, RuntimeBatchRequest\n"
   ]
  },
  {
   "cell_type": "markdown",
   "id": "8b8963d5",
   "metadata": {},
   "source": [
    "## Create datasource config and load "
   ]
  },
  {
   "cell_type": "code",
   "execution_count": 28,
   "id": "5bb97ea0",
   "metadata": {},
   "outputs": [],
   "source": [
    "# Load DataContext to memory\n",
    "context = ge.get_context()"
   ]
  },
  {
   "cell_type": "code",
   "execution_count": 16,
   "id": "ecb4b86f",
   "metadata": {},
   "outputs": [],
   "source": [
    "datasource_yaml=\"\"\"\n",
    "name: transactions_use_case\n",
    "class_name: Datasource\n",
    "execution_engine:\n",
    "  class_name: PandasExecutionEngine\n",
    "data_connectors:\n",
    "  default_inferred_data_connector_name:\n",
    "    class_name: InferredAssetFilesystemDataConnector\n",
    "    base_directory: ../data\n",
    "    default_regex:\n",
    "      group_names: \n",
    "        - data_asset_name\n",
    "      pattern: (.*)\n",
    "  default_runtime_data_connector_name:\n",
    "    class_name: RuntimeDataConnector\n",
    "    batch_identifiers:\n",
    "      - default_identifier_name\n",
    "\"\"\""
   ]
  },
  {
   "cell_type": "code",
   "execution_count": 17,
   "id": "c76bdfea",
   "metadata": {
    "scrolled": true
   },
   "outputs": [
    {
     "name": "stdout",
     "output_type": "stream",
     "text": [
      "Attempting to instantiate class from config...\n",
      "\tInstantiating as a Datasource, since class_name is Datasource\n",
      "\tSuccessfully instantiated Datasource\n",
      "\n",
      "\n",
      "ExecutionEngine class name: PandasExecutionEngine\n",
      "Data Connectors:\n",
      "\tdefault_inferred_data_connector_name : InferredAssetFilesystemDataConnector\n",
      "\n",
      "\tAvailable data_asset_names (3 of 3):\n",
      "\t\tarticles.csv (1 of 1): ['articles.csv']\n",
      "\t\ttransactions.csv (1 of 1): ['transactions.csv']\n",
      "\t\ttransactions_faulty.csv (1 of 1): ['transactions_faulty.csv']\n",
      "\n",
      "\tUnmatched data_references (0 of 0):[]\n",
      "\n",
      "\tdefault_runtime_data_connector_name:RuntimeDataConnector\n",
      "\n",
      "\tAvailable data_asset_names (0 of 0):\n",
      "\t\tNote : RuntimeDataConnector will not have data_asset_names until they are passed in through RuntimeBatchRequest\n",
      "\n",
      "\tUnmatched data_references (0 of 0): []\n",
      "\n"
     ]
    },
    {
     "data": {
      "text/plain": [
       "<great_expectations.datasource.new_datasource.Datasource at 0x7f6086ff5b50>"
      ]
     },
     "execution_count": 17,
     "metadata": {},
     "output_type": "execute_result"
    }
   ],
   "source": [
    "context.test_yaml_config(datasource_yaml) "
   ]
  },
  {
   "cell_type": "markdown",
   "id": "cb7f2e55",
   "metadata": {},
   "source": [
    "After succesfully setting up the config and testing it, we have to load it to the appropriate palace in oure _great_expectations.yaml_ file wich has been created with the initialisation of great_expectations"
   ]
  },
  {
   "cell_type": "code",
   "execution_count": 19,
   "id": "f0c6ed37",
   "metadata": {},
   "outputs": [
    {
     "name": "stderr",
     "output_type": "stream",
     "text": [
      "/tmp/ipykernel_1180/2045274942.py:1: UnsafeLoaderWarning: \n",
      "The default 'Loader' for 'load(stream)' without further arguments can be unsafe.\n",
      "Use 'load(stream, Loader=ruamel.yaml.Loader)' explicitly if that is OK.\n",
      "Alternatively include the following in your code:\n",
      "\n",
      "  import warnings\n",
      "  warnings.simplefilter('ignore', ruamel.yaml.error.UnsafeLoaderWarning)\n",
      "\n",
      "In most other cases you should consider using 'safe_load(stream)'\n",
      "  context.add_datasource(**yaml.load(datasource_yaml))\n"
     ]
    },
    {
     "data": {
      "text/plain": [
       "<great_expectations.datasource.new_datasource.Datasource at 0x7f6086f4e430>"
      ]
     },
     "execution_count": 19,
     "metadata": {},
     "output_type": "execute_result"
    }
   ],
   "source": [
    "context.add_datasource(**yaml.load(datasource_yaml))"
   ]
  },
  {
   "cell_type": "markdown",
   "id": "99f4bf00",
   "metadata": {},
   "source": [
    "## Testing the new datasource"
   ]
  },
  {
   "cell_type": "code",
   "execution_count": 38,
   "id": "eb12dc24",
   "metadata": {},
   "outputs": [],
   "source": [
    "batch_request = RuntimeBatchRequest(\n",
    "    datasource_name=\"transactions_use_case\", # this has to be equal as the defined data_source_name in the datasource_yaml\n",
    "    data_connector_name=\"default_runtime_data_connector_name\",\n",
    "    data_asset_name=\"transactions\",  # This can be anything that identifies this data_asset for you\n",
    "    runtime_parameters={\"path\": \"./data/transactions.csv\"},  # Add your path here.\n",
    "    batch_identifiers={\"default_identifier_name\": \"default_identifier\"},\n",
    ")"
   ]
  },
  {
   "cell_type": "code",
   "execution_count": 39,
   "id": "2d76759b",
   "metadata": {},
   "outputs": [
    {
     "data": {
      "text/plain": [
       "{\n",
       "  \"data_asset_type\": null,\n",
       "  \"expectation_suite_name\": \"test_suite\",\n",
       "  \"ge_cloud_id\": null,\n",
       "  \"expectations\": [],\n",
       "  \"meta\": {\n",
       "    \"great_expectations_version\": \"0.14.6\"\n",
       "  }\n",
       "}"
      ]
     },
     "execution_count": 39,
     "metadata": {},
     "output_type": "execute_result"
    }
   ],
   "source": [
    "context.create_expectation_suite(\n",
    "    expectation_suite_name=\"test_suite\", overwrite_existing=True\n",
    ")"
   ]
  },
  {
   "cell_type": "code",
   "execution_count": 40,
   "id": "1b7d9127",
   "metadata": {
    "scrolled": false
   },
   "outputs": [
    {
     "name": "stdout",
     "output_type": "stream",
     "text": [
      "         date article_id  value\n",
      "0  05.07.2021      200XL  49.99\n",
      "1  20.06.2021       400S  19.99\n",
      "2  15.04.2021      200XL  49.99\n",
      "3  02.04.2021       500M  79.99\n",
      "4  02.04.2021       100L  29.99\n"
     ]
    }
   ],
   "source": [
    "validator = context.get_validator(\n",
    "    batch_request=batch_request, expectation_suite_name=\"test_suite\"\n",
    ")\n",
    "print(validator.head())"
   ]
  },
  {
   "cell_type": "markdown",
   "id": "409f4a8e",
   "metadata": {},
   "source": [
    "# Creating an expectation suite"
   ]
  },
  {
   "cell_type": "markdown",
   "id": "5ffc6b29",
   "metadata": {},
   "source": [
    "To create a testing pipeline with set of expectations a suite has to be created. It is a JSON with all expectations that will be run on a given dataset."
   ]
  },
  {
   "cell_type": "markdown",
   "id": "6096eaf7",
   "metadata": {},
   "source": [
    "There are 2 options to setup expectations.\n",
    "* Use the profiler and a \"healthy\" dataset to auto generate expectations based on the input tables form and simple metrics (mean, min, max) \n",
    "* Create an expectations JSON manually by utilizing already implemented expectations and/or create custom expectations to test against certain input data\n",
    "   \n",
    "This notebook will go with the latter approach. To use the profiler just run _great_expectations suite new_ and select the profiler option. This will start a new helper notebook where expectatins based on the input data are created. "
   ]
  },
  {
   "cell_type": "code",
   "execution_count": 62,
   "id": "fe38da19",
   "metadata": {},
   "outputs": [],
   "source": [
    "from great_expectations.core.expectation_configuration import ExpectationConfiguration\n",
    "from great_expectations.data_context.types.resource_identifiers import ExpectationSuiteIdentifier"
   ]
  },
  {
   "cell_type": "markdown",
   "id": "5009238b",
   "metadata": {},
   "source": [
    "### 1 Create expectation suite"
   ]
  },
  {
   "cell_type": "code",
   "execution_count": 89,
   "id": "dca46b31",
   "metadata": {},
   "outputs": [
    {
     "data": {
      "text/plain": [
       "{\n",
       "  \"data_asset_type\": null,\n",
       "  \"expectation_suite_name\": \"transaction_validation_suite\",\n",
       "  \"ge_cloud_id\": null,\n",
       "  \"expectations\": [],\n",
       "  \"meta\": {\n",
       "    \"great_expectations_version\": \"0.14.6\"\n",
       "  }\n",
       "}"
      ]
     },
     "execution_count": 89,
     "metadata": {},
     "output_type": "execute_result"
    }
   ],
   "source": [
    "context.create_expectation_suite(\n",
    "    expectation_suite_name=\"transaction_validation_suite\", overwrite_existing=True\n",
    ")"
   ]
  },
  {
   "cell_type": "markdown",
   "id": "50333fa3",
   "metadata": {},
   "source": [
    "### 2 Set suite to the new expectation suite"
   ]
  },
  {
   "cell_type": "code",
   "execution_count": 90,
   "id": "8602d36e",
   "metadata": {},
   "outputs": [
    {
     "name": "stdout",
     "output_type": "stream",
     "text": [
      "Loaded ExpectationSuite \"transaction_validation_suite\" containing 0 expectations.\n"
     ]
    }
   ],
   "source": [
    "try:\n",
    "    suite = context.get_expectation_suite(expectation_suite_name=expectation_suite_name)\n",
    "    print(\n",
    "        f'Loaded ExpectationSuite \"{suite.expectation_suite_name}\" containing {len(suite.expectations)} expectations.'\n",
    "    )\n",
    "except DataContextError:\n",
    "    suite = context.create_expectation_suite(\n",
    "        expectation_suite_name=expectation_suite_name\n",
    "    )\n",
    "    print(f'Created ExpectationSuite \"{suite.expectation_suite_name}\".')"
   ]
  },
  {
   "cell_type": "markdown",
   "id": "0c7481c7",
   "metadata": {},
   "source": [
    "### 3 Create expectations"
   ]
  },
  {
   "cell_type": "code",
   "execution_count": 91,
   "id": "948fe841",
   "metadata": {},
   "outputs": [
    {
     "name": "stdout",
     "output_type": "stream",
     "text": [
      "  article_id article_name  article_color_id article_size_id\n",
      "0       100L      T-Shirt               100               L\n",
      "1      200XL        Pants               200              XL\n",
      "2       300M        Jeans               300              XM\n",
      "3       400S          Hat               400               S\n",
      "4       500M     Sneakers               500               M\n"
     ]
    },
    {
     "data": {
      "text/plain": [
       "{\"expectation_type\": \"expect_column_values_to_be_in_set\", \"kwargs\": {\"column\": \"article_id\", \"value_set\": [\"100L\", \"200XL\", \"300M\", \"400S\", \"500M\"]}, \"meta\": {\"notes\": {\"content\": \"The input value set is derived from the articles.csv. This way the validation data will always be compared \\n         to the currently available articles. Optionally another suite for checking articles may be beneficial\"}}}"
      ]
     },
     "execution_count": 91,
     "metadata": {},
     "output_type": "execute_result"
    }
   ],
   "source": [
    "# Create an Expectation\n",
    "articles = pd.read_csv((\"./data/articles.csv\"))\n",
    "print(articles.head())\n",
    "\n",
    "article_id_list= articles['article_id'].values.tolist()\n",
    "\n",
    "expectation_configuration = ExpectationConfiguration(\n",
    "   expectation_type=\"expect_column_values_to_be_in_set\",\n",
    "   kwargs={\n",
    "      \"column\":\"article_id\",\n",
    "      \"value_set\": article_id_list\n",
    "   },\n",
    "   meta={\n",
    "       \"notes\": {\n",
    "         \"content\": \"\"\"The input value set is derived from the articles.csv. This way the validation data will always be compared \n",
    "         to the currently available articles. Optionally another suite for checking articles may be beneficial\"\"\"\n",
    "      }\n",
    "   }\n",
    ")\n",
    "# Add the Expectation to the suite\n",
    "suite.add_expectation(expectation_configuration=expectation_configuration)"
   ]
  },
  {
   "cell_type": "code",
   "execution_count": 92,
   "id": "667a1782",
   "metadata": {},
   "outputs": [
    {
     "data": {
      "text/plain": [
       "{\"expectation_type\": \"expect_column_values_to_not_be_null\", \"kwargs\": {\"column\": \"value\"}, \"meta\": {}}"
      ]
     },
     "execution_count": 92,
     "metadata": {},
     "output_type": "execute_result"
    }
   ],
   "source": [
    " expectation_configuration = ExpectationConfiguration(\n",
    "    expectation_type= \"expect_column_values_to_not_be_null\",\n",
    "      kwargs={\n",
    "        \"column\": \"value\"\n",
    "    }\n",
    " )\n",
    "suite.add_expectation(expectation_configuration=expectation_configuration)"
   ]
  },
  {
   "cell_type": "code",
   "execution_count": 93,
   "id": "6d8e49b3",
   "metadata": {},
   "outputs": [
    {
     "data": {
      "text/plain": [
       "{\"expectation_type\": \"expect_column_values_to_not_be_null\", \"kwargs\": {\"column\": \"article_id\"}, \"meta\": {}}"
      ]
     },
     "execution_count": 93,
     "metadata": {},
     "output_type": "execute_result"
    }
   ],
   "source": [
    "expectation_configuration = ExpectationConfiguration(\n",
    "    expectation_type= \"expect_column_values_to_not_be_null\",\n",
    "      kwargs={\n",
    "        \"column\": \"article_id\"\n",
    "      }\n",
    ")\n",
    "suite.add_expectation(expectation_configuration=expectation_configuration)"
   ]
  },
  {
   "cell_type": "markdown",
   "id": "5b3242d7",
   "metadata": {},
   "source": [
    "### 4 Save created expectations to expectation suite JSON"
   ]
  },
  {
   "cell_type": "code",
   "execution_count": 94,
   "id": "b26807cf",
   "metadata": {},
   "outputs": [
    {
     "name": "stdout",
     "output_type": "stream",
     "text": [
      "{\n",
      "  \"data_asset_type\": null,\n",
      "  \"expectation_suite_name\": \"transaction_validation_suite\",\n",
      "  \"ge_cloud_id\": null,\n",
      "  \"expectations\": [],\n",
      "  \"meta\": {\n",
      "    \"great_expectations_version\": \"0.14.6\"\n",
      "  }\n",
      "}\n"
     ]
    },
    {
     "data": {
      "text/plain": [
       "'/home/kevinkrs/programming/GreatExpectationsV2/great_expectations/expectations/transaction_validation_suite.json'"
      ]
     },
     "execution_count": 94,
     "metadata": {},
     "output_type": "execute_result"
    }
   ],
   "source": [
    "print(context.get_expectation_suite(expectation_suite_name=expectation_suite_name))\n",
    "context.save_expectation_suite(expectation_suite=suite, expectation_suite_name=expectation_suite_name)\n"
   ]
  },
  {
   "cell_type": "code",
   "execution_count": 127,
   "id": "5a767bdc",
   "metadata": {},
   "outputs": [
    {
     "name": "stderr",
     "output_type": "stream",
     "text": [
      "Unrecognized Expectation suite notes format. Skipping rendering.\n",
      "An unexpected Exception occurred during data docs rendering.  Because of this error, certain parts of data docs will not be rendered properly and/or may not appear altogether.  Please use the trace, included in this message, to diagnose and repair the underlying issue.  Detailed information follows:\n",
      "                TypeError: \"'NoneType' object is not iterable\".  Traceback: \"Traceback (most recent call last):\n",
      "  File \"/home/kevinkrs/programming/GreatExpectationsV2/venv/lib/python3.8/site-packages/great_expectations/render/renderer/site_builder.py\", line 473, in build\n",
      "    viewable_content = self.view_class.render(\n",
      "  File \"/home/kevinkrs/programming/GreatExpectationsV2/venv/lib/python3.8/site-packages/great_expectations/render/view/view.py\", line 103, in render\n",
      "    document = document.to_json_dict()\n",
      "  File \"/home/kevinkrs/programming/GreatExpectationsV2/venv/lib/python3.8/site-packages/great_expectations/render/types/__init__.py\", line 463, in to_json_dict\n",
      "    d[\"sections\"] = RenderedContent.rendered_content_list_to_json(self.sections)\n",
      "  File \"/home/kevinkrs/programming/GreatExpectationsV2/venv/lib/python3.8/site-packages/great_expectations/render/types/__init__.py\", line 26, in rendered_content_list_to_json\n",
      "    result_list.append(item.to_json_dict())\n",
      "  File \"/home/kevinkrs/programming/GreatExpectationsV2/venv/lib/python3.8/site-packages/great_expectations/render/types/__init__.py\", line 494, in to_json_dict\n",
      "    d[\"content_blocks\"] = RenderedContent.rendered_content_list_to_json(\n",
      "  File \"/home/kevinkrs/programming/GreatExpectationsV2/venv/lib/python3.8/site-packages/great_expectations/render/types/__init__.py\", line 26, in rendered_content_list_to_json\n",
      "    result_list.append(item.to_json_dict())\n",
      "  File \"/home/kevinkrs/programming/GreatExpectationsV2/venv/lib/python3.8/site-packages/great_expectations/render/types/__init__.py\", line 313, in to_json_dict\n",
      "    d[\"bullet_list\"] = RenderedContent.rendered_content_list_to_json(\n",
      "  File \"/home/kevinkrs/programming/GreatExpectationsV2/venv/lib/python3.8/site-packages/great_expectations/render/types/__init__.py\", line 29, in rendered_content_list_to_json\n",
      "    RenderedContent.rendered_content_list_to_json(\n",
      "  File \"/home/kevinkrs/programming/GreatExpectationsV2/venv/lib/python3.8/site-packages/great_expectations/render/types/__init__.py\", line 26, in rendered_content_list_to_json\n",
      "    result_list.append(item.to_json_dict())\n",
      "  File \"/home/kevinkrs/programming/GreatExpectationsV2/venv/lib/python3.8/site-packages/great_expectations/render/types/__init__.py\", line 420, in to_json_dict\n",
      "    d[\"collapse\"] = RenderedContent.rendered_content_list_to_json(self.collapse)\n",
      "  File \"/home/kevinkrs/programming/GreatExpectationsV2/venv/lib/python3.8/site-packages/great_expectations/render/types/__init__.py\", line 26, in rendered_content_list_to_json\n",
      "    result_list.append(item.to_json_dict())\n",
      "  File \"/home/kevinkrs/programming/GreatExpectationsV2/venv/lib/python3.8/site-packages/great_expectations/render/types/__init__.py\", line 380, in to_json_dict\n",
      "    d[\"text\"] = RenderedContent.rendered_content_list_to_json(self.text)\n",
      "  File \"/home/kevinkrs/programming/GreatExpectationsV2/venv/lib/python3.8/site-packages/great_expectations/render/types/__init__.py\", line 24, in rendered_content_list_to_json\n",
      "    for item in list_:\n",
      "TypeError: 'NoneType' object is not iterable\n",
      "\".\n"
     ]
    },
    {
     "data": {
      "text/plain": [
       "{'local_site': 'file:///home/kevinkrs/programming/GreatExpectationsV2/great_expectations/uncommitted/data_docs/local_site/index.html'}"
      ]
     },
     "execution_count": 127,
     "metadata": {},
     "output_type": "execute_result"
    }
   ],
   "source": [
    "suite_identifier = ExpectationSuiteIdentifier(expectation_suite_name=expectation_suite_name)\n",
    "context.build_data_docs(resource_identifiers=[suite_identifier])\n",
    "# context.open_data_docs(resource_identifier=suite_identifier)"
   ]
  },
  {
   "cell_type": "markdown",
   "id": "1e2decec",
   "metadata": {},
   "source": [
    "# Validation"
   ]
  },
  {
   "cell_type": "markdown",
   "id": "9ae5de96",
   "metadata": {},
   "source": [
    "## Create a checkpoint yaml "
   ]
  },
  {
   "cell_type": "code",
   "execution_count": 115,
   "id": "e22921f6",
   "metadata": {},
   "outputs": [],
   "source": [
    "from pprint import pprint\n",
    "from ruamel.yaml import YAML\n",
    "\n",
    "yaml = YAML()"
   ]
  },
  {
   "cell_type": "markdown",
   "id": "73823bdb",
   "metadata": {},
   "source": [
    "### 1 Check availabl data and suites"
   ]
  },
  {
   "cell_type": "code",
   "execution_count": 116,
   "id": "974374ff",
   "metadata": {},
   "outputs": [
    {
     "name": "stdout",
     "output_type": "stream",
     "text": [
      "{'transactions_use_case': {'default_inferred_data_connector_name': ['articles.csv',\n",
      "                                                                    'transactions.csv',\n",
      "                                                                    'transactions_faulty.csv'],\n",
      "                           'default_runtime_data_connector_name': ['transactions']}}\n"
     ]
    }
   ],
   "source": [
    "# check on available assets\n",
    "pprint(context.get_available_data_asset_names())"
   ]
  },
  {
   "cell_type": "code",
   "execution_count": 117,
   "id": "b9962182",
   "metadata": {},
   "outputs": [
    {
     "data": {
      "text/plain": [
       "['transaction_validation_suite']"
      ]
     },
     "execution_count": 117,
     "metadata": {},
     "output_type": "execute_result"
    }
   ],
   "source": [
    "# check available suites (expectation JSONs) \n",
    "context.list_expectation_suite_names()"
   ]
  },
  {
   "cell_type": "markdown",
   "id": "35589b68",
   "metadata": {},
   "source": [
    "### 2 Create checkpoint yaml "
   ]
  },
  {
   "cell_type": "code",
   "execution_count": 118,
   "id": "69b27c95",
   "metadata": {},
   "outputs": [
    {
     "name": "stdout",
     "output_type": "stream",
     "text": [
      "\n",
      "name: transaction_validation\n",
      "config_version: 1.0\n",
      "class_name: SimpleCheckpoint\n",
      "run_name_template: \"%Y%m%d-%H%M%S-my-run-name-template\"\n",
      "validations:\n",
      "  - batch_request:\n",
      "      datasource_name: transactions_use_case\n",
      "      data_connector_name: default_inferred_data_connector_name\n",
      "      data_asset_name: transactions_faulty.csv\n",
      "      data_connector_query:\n",
      "        index: -1\n",
      "    expectation_suite_name: transaction_validation_suite\n",
      "\n"
     ]
    }
   ],
   "source": [
    "# for an easy checkpoint creation use the great_expectations client\n",
    "my_checkpoint_name = (\n",
    "    \"transaction_validation\"  \n",
    ")\n",
    "\n",
    "data_to_be_validated_name = \"transactions_faulty.csv\" # parametrization of the to-be-validated file \n",
    "\n",
    "yaml_config = f\"\"\"\n",
    "name: {my_checkpoint_name}\n",
    "config_version: 1.0\n",
    "class_name: SimpleCheckpoint\n",
    "run_name_template: \"%Y%m%d-%H%M%S-my-run-name-template\"\n",
    "validations:\n",
    "  - batch_request:\n",
    "      datasource_name: transactions_use_case\n",
    "      data_connector_name: default_inferred_data_connector_name\n",
    "      data_asset_name: {data_to_be_validated_name}\n",
    "      data_connector_query:\n",
    "        index: -1\n",
    "    expectation_suite_name: transaction_validation_suite\n",
    "\"\"\"\n",
    "print(yaml_config)"
   ]
  },
  {
   "cell_type": "markdown",
   "id": "3f661406",
   "metadata": {},
   "source": [
    "### 3 Test checkpoint"
   ]
  },
  {
   "cell_type": "code",
   "execution_count": 119,
   "id": "e6235b5e",
   "metadata": {},
   "outputs": [
    {
     "name": "stdout",
     "output_type": "stream",
     "text": [
      "Attempting to instantiate class from config...\n",
      "\tInstantiating as a SimpleCheckpoint, since class_name is SimpleCheckpoint\n",
      "\tSuccessfully instantiated SimpleCheckpoint\n",
      "\n",
      "\n",
      "Checkpoint class name: SimpleCheckpoint\n"
     ]
    }
   ],
   "source": [
    "my_checkpoint = context.test_yaml_config(yaml_config=yaml_config)"
   ]
  },
  {
   "cell_type": "code",
   "execution_count": 120,
   "id": "cb9e9163",
   "metadata": {},
   "outputs": [
    {
     "name": "stdout",
     "output_type": "stream",
     "text": [
      "name: transaction_validation\n",
      "config_version: 1.0\n",
      "template_name:\n",
      "module_name: great_expectations.checkpoint\n",
      "class_name: Checkpoint\n",
      "run_name_template: '%Y%m%d-%H%M%S-my-run-name-template'\n",
      "expectation_suite_name:\n",
      "batch_request: {}\n",
      "action_list:\n",
      "  - name: store_validation_result\n",
      "    action:\n",
      "      class_name: StoreValidationResultAction\n",
      "  - name: store_evaluation_params\n",
      "    action:\n",
      "      class_name: StoreEvaluationParametersAction\n",
      "  - name: update_data_docs\n",
      "    action:\n",
      "      class_name: UpdateDataDocsAction\n",
      "      site_names: []\n",
      "evaluation_parameters: {}\n",
      "runtime_configuration: {}\n",
      "validations:\n",
      "  - batch_request:\n",
      "      datasource_name: transactions_use_case\n",
      "      data_connector_name: default_inferred_data_connector_name\n",
      "      data_asset_name: transactions_faulty.csv\n",
      "      data_connector_query:\n",
      "        index: -1\n",
      "    expectation_suite_name: transaction_validation_suite\n",
      "profilers: []\n",
      "ge_cloud_id:\n",
      "expectation_suite_ge_cloud_id:\n",
      "\n"
     ]
    }
   ],
   "source": [
    "print(my_checkpoint.get_config(mode=\"yaml\"))"
   ]
  },
  {
   "cell_type": "markdown",
   "id": "99fd1162",
   "metadata": {},
   "source": [
    "### 4 Load checkpoint to great_expectations environment"
   ]
  },
  {
   "cell_type": "code",
   "execution_count": 121,
   "id": "8e079996",
   "metadata": {},
   "outputs": [
    {
     "data": {
      "text/plain": [
       "{\n",
       "  \"action_list\": [\n",
       "    {\n",
       "      \"name\": \"store_validation_result\",\n",
       "      \"action\": {\n",
       "        \"class_name\": \"StoreValidationResultAction\"\n",
       "      }\n",
       "    },\n",
       "    {\n",
       "      \"name\": \"store_evaluation_params\",\n",
       "      \"action\": {\n",
       "        \"class_name\": \"StoreEvaluationParametersAction\"\n",
       "      }\n",
       "    },\n",
       "    {\n",
       "      \"name\": \"update_data_docs\",\n",
       "      \"action\": {\n",
       "        \"class_name\": \"UpdateDataDocsAction\",\n",
       "        \"site_names\": []\n",
       "      }\n",
       "    }\n",
       "  ],\n",
       "  \"batch_request\": {},\n",
       "  \"class_name\": \"Checkpoint\",\n",
       "  \"config_version\": 1.0,\n",
       "  \"evaluation_parameters\": {},\n",
       "  \"module_name\": \"great_expectations.checkpoint\",\n",
       "  \"name\": \"transaction_validation\",\n",
       "  \"profilers\": [],\n",
       "  \"run_name_template\": \"%Y%m%d-%H%M%S-my-run-name-template\",\n",
       "  \"runtime_configuration\": {},\n",
       "  \"validations\": [\n",
       "    {\n",
       "      \"batch_request\": {\n",
       "        \"datasource_name\": \"transactions_use_case\",\n",
       "        \"data_connector_name\": \"default_inferred_data_connector_name\",\n",
       "        \"data_asset_name\": \"transactions_faulty.csv\",\n",
       "        \"data_connector_query\": {\n",
       "          \"index\": -1\n",
       "        }\n",
       "      },\n",
       "      \"expectation_suite_name\": \"transaction_validation_suite\"\n",
       "    }\n",
       "  ]\n",
       "}"
      ]
     },
     "execution_count": 121,
     "metadata": {},
     "output_type": "execute_result"
    }
   ],
   "source": [
    "context.add_checkpoint(**yaml.load(yaml_config))"
   ]
  },
  {
   "cell_type": "markdown",
   "id": "a1ef4fdf",
   "metadata": {},
   "source": [
    "## Run Validation"
   ]
  },
  {
   "cell_type": "code",
   "execution_count": 128,
   "id": "9777ecc2",
   "metadata": {},
   "outputs": [
    {
     "data": {
      "application/vnd.jupyter.widget-view+json": {
       "model_id": "844606ddb8fd459a91a9198fff5088a8",
       "version_major": 2,
       "version_minor": 0
      },
      "text/plain": [
       "Calculating Metrics:   0%|          | 0/12 [00:00<?, ?it/s]"
      ]
     },
     "metadata": {},
     "output_type": "display_data"
    },
    {
     "name": "stderr",
     "output_type": "stream",
     "text": [
      "Unrecognized Expectation suite notes format. Skipping rendering.\n",
      "An unexpected Exception occurred during data docs rendering.  Because of this error, certain parts of data docs will not be rendered properly and/or may not appear altogether.  Please use the trace, included in this message, to diagnose and repair the underlying issue.  Detailed information follows:\n",
      "                TypeError: \"'NoneType' object is not iterable\".  Traceback: \"Traceback (most recent call last):\n",
      "  File \"/home/kevinkrs/programming/GreatExpectationsV2/venv/lib/python3.8/site-packages/great_expectations/render/renderer/site_builder.py\", line 473, in build\n",
      "    viewable_content = self.view_class.render(\n",
      "  File \"/home/kevinkrs/programming/GreatExpectationsV2/venv/lib/python3.8/site-packages/great_expectations/render/view/view.py\", line 103, in render\n",
      "    document = document.to_json_dict()\n",
      "  File \"/home/kevinkrs/programming/GreatExpectationsV2/venv/lib/python3.8/site-packages/great_expectations/render/types/__init__.py\", line 463, in to_json_dict\n",
      "    d[\"sections\"] = RenderedContent.rendered_content_list_to_json(self.sections)\n",
      "  File \"/home/kevinkrs/programming/GreatExpectationsV2/venv/lib/python3.8/site-packages/great_expectations/render/types/__init__.py\", line 26, in rendered_content_list_to_json\n",
      "    result_list.append(item.to_json_dict())\n",
      "  File \"/home/kevinkrs/programming/GreatExpectationsV2/venv/lib/python3.8/site-packages/great_expectations/render/types/__init__.py\", line 494, in to_json_dict\n",
      "    d[\"content_blocks\"] = RenderedContent.rendered_content_list_to_json(\n",
      "  File \"/home/kevinkrs/programming/GreatExpectationsV2/venv/lib/python3.8/site-packages/great_expectations/render/types/__init__.py\", line 26, in rendered_content_list_to_json\n",
      "    result_list.append(item.to_json_dict())\n",
      "  File \"/home/kevinkrs/programming/GreatExpectationsV2/venv/lib/python3.8/site-packages/great_expectations/render/types/__init__.py\", line 313, in to_json_dict\n",
      "    d[\"bullet_list\"] = RenderedContent.rendered_content_list_to_json(\n",
      "  File \"/home/kevinkrs/programming/GreatExpectationsV2/venv/lib/python3.8/site-packages/great_expectations/render/types/__init__.py\", line 29, in rendered_content_list_to_json\n",
      "    RenderedContent.rendered_content_list_to_json(\n",
      "  File \"/home/kevinkrs/programming/GreatExpectationsV2/venv/lib/python3.8/site-packages/great_expectations/render/types/__init__.py\", line 26, in rendered_content_list_to_json\n",
      "    result_list.append(item.to_json_dict())\n",
      "  File \"/home/kevinkrs/programming/GreatExpectationsV2/venv/lib/python3.8/site-packages/great_expectations/render/types/__init__.py\", line 420, in to_json_dict\n",
      "    d[\"collapse\"] = RenderedContent.rendered_content_list_to_json(self.collapse)\n",
      "  File \"/home/kevinkrs/programming/GreatExpectationsV2/venv/lib/python3.8/site-packages/great_expectations/render/types/__init__.py\", line 26, in rendered_content_list_to_json\n",
      "    result_list.append(item.to_json_dict())\n",
      "  File \"/home/kevinkrs/programming/GreatExpectationsV2/venv/lib/python3.8/site-packages/great_expectations/render/types/__init__.py\", line 380, in to_json_dict\n",
      "    d[\"text\"] = RenderedContent.rendered_content_list_to_json(self.text)\n",
      "  File \"/home/kevinkrs/programming/GreatExpectationsV2/venv/lib/python3.8/site-packages/great_expectations/render/types/__init__.py\", line 24, in rendered_content_list_to_json\n",
      "    for item in list_:\n",
      "TypeError: 'NoneType' object is not iterable\n",
      "\".\n"
     ]
    },
    {
     "data": {
      "text/plain": [
       "{\n",
       "  \"run_id\": {\n",
       "    \"run_time\": \"2022-02-18T11:47:44.804777+00:00\",\n",
       "    \"run_name\": \"20220218-114744-my-run-name-template\"\n",
       "  },\n",
       "  \"run_results\": {\n",
       "    \"ValidationResultIdentifier::transaction_validation_suite/20220218-114744-my-run-name-template/20220218T114744.804777Z/6bb28be6367073d63550b8552baa3682\": {\n",
       "      \"validation_result\": {\n",
       "        \"success\": false,\n",
       "        \"results\": [\n",
       "          {\n",
       "            \"exception_info\": {\n",
       "              \"raised_exception\": false,\n",
       "              \"exception_traceback\": null,\n",
       "              \"exception_message\": null\n",
       "            },\n",
       "            \"success\": false,\n",
       "            \"meta\": {},\n",
       "            \"expectation_config\": {\n",
       "              \"expectation_type\": \"expect_column_values_to_be_in_set\",\n",
       "              \"kwargs\": {\n",
       "                \"column\": \"article_id\",\n",
       "                \"value_set\": [\n",
       "                  \"100L\",\n",
       "                  \"200XL\",\n",
       "                  \"300M\",\n",
       "                  \"400S\",\n",
       "                  \"500M\"\n",
       "                ],\n",
       "                \"batch_id\": \"6bb28be6367073d63550b8552baa3682\"\n",
       "              },\n",
       "              \"meta\": {\n",
       "                \"notes\": {\n",
       "                  \"content\": \"The input value set is derived from the articles.csv. This way the validation data will always be compared \\n         to the currently available articles. Optionally another suite for checking articles may be beneficial\"\n",
       "                }\n",
       "              }\n",
       "            },\n",
       "            \"result\": {\n",
       "              \"element_count\": 10,\n",
       "              \"unexpected_count\": 3,\n",
       "              \"unexpected_percent\": 30.0,\n",
       "              \"partial_unexpected_list\": [\n",
       "                \"100KL\",\n",
       "                \"800S\",\n",
       "                \"800S\"\n",
       "              ],\n",
       "              \"missing_count\": 0,\n",
       "              \"missing_percent\": 0.0,\n",
       "              \"unexpected_percent_total\": 30.0,\n",
       "              \"unexpected_percent_nonmissing\": 30.0,\n",
       "              \"partial_unexpected_index_list\": null,\n",
       "              \"partial_unexpected_counts\": [\n",
       "                {\n",
       "                  \"value\": \"800S\",\n",
       "                  \"count\": 2\n",
       "                },\n",
       "                {\n",
       "                  \"value\": \"100KL\",\n",
       "                  \"count\": 1\n",
       "                }\n",
       "              ]\n",
       "            }\n",
       "          },\n",
       "          {\n",
       "            \"exception_info\": {\n",
       "              \"raised_exception\": false,\n",
       "              \"exception_traceback\": null,\n",
       "              \"exception_message\": null\n",
       "            },\n",
       "            \"success\": true,\n",
       "            \"meta\": {},\n",
       "            \"expectation_config\": {\n",
       "              \"expectation_type\": \"expect_column_values_to_not_be_null\",\n",
       "              \"kwargs\": {\n",
       "                \"column\": \"article_id\",\n",
       "                \"batch_id\": \"6bb28be6367073d63550b8552baa3682\"\n",
       "              },\n",
       "              \"meta\": {}\n",
       "            },\n",
       "            \"result\": {\n",
       "              \"element_count\": 10,\n",
       "              \"unexpected_count\": 0,\n",
       "              \"unexpected_percent\": 0.0,\n",
       "              \"partial_unexpected_list\": [],\n",
       "              \"partial_unexpected_index_list\": null,\n",
       "              \"partial_unexpected_counts\": []\n",
       "            }\n",
       "          },\n",
       "          {\n",
       "            \"exception_info\": {\n",
       "              \"raised_exception\": false,\n",
       "              \"exception_traceback\": null,\n",
       "              \"exception_message\": null\n",
       "            },\n",
       "            \"success\": true,\n",
       "            \"meta\": {},\n",
       "            \"expectation_config\": {\n",
       "              \"expectation_type\": \"expect_column_values_to_not_be_null\",\n",
       "              \"kwargs\": {\n",
       "                \"column\": \"value\",\n",
       "                \"batch_id\": \"6bb28be6367073d63550b8552baa3682\"\n",
       "              },\n",
       "              \"meta\": {}\n",
       "            },\n",
       "            \"result\": {\n",
       "              \"element_count\": 10,\n",
       "              \"unexpected_count\": 0,\n",
       "              \"unexpected_percent\": 0.0,\n",
       "              \"partial_unexpected_list\": [],\n",
       "              \"partial_unexpected_index_list\": null,\n",
       "              \"partial_unexpected_counts\": []\n",
       "            }\n",
       "          }\n",
       "        ],\n",
       "        \"meta\": {\n",
       "          \"great_expectations_version\": \"0.14.6\",\n",
       "          \"expectation_suite_name\": \"transaction_validation_suite\",\n",
       "          \"run_id\": {\n",
       "            \"run_time\": \"2022-02-18T11:47:44.804777+00:00\",\n",
       "            \"run_name\": \"20220218-114744-my-run-name-template\"\n",
       "          },\n",
       "          \"batch_spec\": {\n",
       "            \"path\": \"/home/kevinkrs/programming/GreatExpectationsV2/great_expectations/../data/transactions_faulty.csv\"\n",
       "          },\n",
       "          \"batch_markers\": {\n",
       "            \"ge_load_time\": \"20220218T104744.851837Z\",\n",
       "            \"pandas_data_fingerprint\": \"77b1dff2d2517033f711ddf8e153d0df\"\n",
       "          },\n",
       "          \"active_batch_definition\": {\n",
       "            \"datasource_name\": \"transactions_use_case\",\n",
       "            \"data_connector_name\": \"default_inferred_data_connector_name\",\n",
       "            \"data_asset_name\": \"transactions_faulty.csv\",\n",
       "            \"batch_identifiers\": {}\n",
       "          },\n",
       "          \"validation_time\": \"20220218T104744.931029Z\"\n",
       "        },\n",
       "        \"evaluation_parameters\": {},\n",
       "        \"statistics\": {\n",
       "          \"evaluated_expectations\": 3,\n",
       "          \"successful_expectations\": 2,\n",
       "          \"unsuccessful_expectations\": 1,\n",
       "          \"success_percent\": 66.66666666666666\n",
       "        }\n",
       "      },\n",
       "      \"actions_results\": {\n",
       "        \"store_validation_result\": {\n",
       "          \"class\": \"StoreValidationResultAction\"\n",
       "        },\n",
       "        \"store_evaluation_params\": {\n",
       "          \"class\": \"StoreEvaluationParametersAction\"\n",
       "        },\n",
       "        \"update_data_docs\": {\n",
       "          \"local_site\": \"file:///home/kevinkrs/programming/GreatExpectationsV2/great_expectations/uncommitted/data_docs/local_site/validations/transaction_validation_suite/20220218-114744-my-run-name-template/20220218T114744.804777Z/6bb28be6367073d63550b8552baa3682.html\",\n",
       "          \"class\": \"UpdateDataDocsAction\"\n",
       "        }\n",
       "      }\n",
       "    }\n",
       "  },\n",
       "  \"checkpoint_config\": {\n",
       "    \"slack_webhook\": null,\n",
       "    \"batch_request\": {},\n",
       "    \"config_version\": 1.0,\n",
       "    \"run_name_template\": \"%Y%m%d-%H%M%S-my-run-name-template\",\n",
       "    \"runtime_configuration\": {},\n",
       "    \"template_name\": null,\n",
       "    \"notify_with\": null,\n",
       "    \"class_name\": \"Checkpoint\",\n",
       "    \"expectation_suite_ge_cloud_id\": null,\n",
       "    \"site_names\": null,\n",
       "    \"profilers\": [],\n",
       "    \"ge_cloud_id\": null,\n",
       "    \"action_list\": [\n",
       "      {\n",
       "        \"name\": \"store_validation_result\",\n",
       "        \"action\": {\n",
       "          \"class_name\": \"StoreValidationResultAction\"\n",
       "        }\n",
       "      },\n",
       "      {\n",
       "        \"name\": \"store_evaluation_params\",\n",
       "        \"action\": {\n",
       "          \"class_name\": \"StoreEvaluationParametersAction\"\n",
       "        }\n",
       "      },\n",
       "      {\n",
       "        \"name\": \"update_data_docs\",\n",
       "        \"action\": {\n",
       "          \"class_name\": \"UpdateDataDocsAction\",\n",
       "          \"site_names\": []\n",
       "        }\n",
       "      }\n",
       "    ],\n",
       "    \"validations\": [\n",
       "      {\n",
       "        \"batch_request\": {\n",
       "          \"datasource_name\": \"transactions_use_case\",\n",
       "          \"data_connector_name\": \"default_inferred_data_connector_name\",\n",
       "          \"data_asset_name\": \"transactions_faulty.csv\",\n",
       "          \"data_connector_query\": {\n",
       "            \"index\": -1\n",
       "          }\n",
       "        },\n",
       "        \"expectation_suite_name\": \"transaction_validation_suite\"\n",
       "      }\n",
       "    ],\n",
       "    \"expectation_suite_name\": null,\n",
       "    \"name\": \"transaction_validation\",\n",
       "    \"notify_on\": null,\n",
       "    \"evaluation_parameters\": {},\n",
       "    \"module_name\": \"great_expectations.checkpoint\"\n",
       "  },\n",
       "  \"success\": false\n",
       "}"
      ]
     },
     "execution_count": 128,
     "metadata": {},
     "output_type": "execute_result"
    }
   ],
   "source": [
    "context.run_checkpoint(checkpoint_name=my_checkpoint_name)"
   ]
  },
  {
   "cell_type": "markdown",
   "id": "99046ca0",
   "metadata": {},
   "source": [
    "## Single expectations validation with python"
   ]
  },
  {
   "cell_type": "markdown",
   "id": "9abffc6d",
   "metadata": {},
   "source": [
    "### Import the required data for check"
   ]
  },
  {
   "cell_type": "code",
   "execution_count": 97,
   "id": "61a5da12",
   "metadata": {},
   "outputs": [
    {
     "name": "stdout",
     "output_type": "stream",
     "text": [
      "  article_id article_name  article_color_id article_size_id\n",
      "0       100L      T-Shirt               100               L\n",
      "1      200XL        Pants               200              XL\n",
      "2       300M        Jeans               300              XM\n",
      "3       400S          Hat               400               S\n",
      "4       500M     Sneakers               500               M\n",
      "['100L', '200XL', '300M', '400S', '500M']\n"
     ]
    }
   ],
   "source": [
    "transactions_df = ge.read_csv(\"./data/transactions.csv\")\n",
    "transactions_faulty_df = ge.read_csv(\"./data/transactions_faulty.csv\")\n",
    "\n",
    "# create set of all article id's\n",
    "articles = pd.read_csv((\"./data/articles.csv\"))\n",
    "print(articles.head())\n",
    "\n",
    "article_id= articles['article_id'].values.tolist()\n",
    "print(article_id)\n"
   ]
  },
  {
   "cell_type": "code",
   "execution_count": 99,
   "id": "15905be2",
   "metadata": {},
   "outputs": [
    {
     "name": "stdout",
     "output_type": "stream",
     "text": [
      "{\n",
      "  \"exception_info\": {\n",
      "    \"raised_exception\": false,\n",
      "    \"exception_traceback\": null,\n",
      "    \"exception_message\": null\n",
      "  },\n",
      "  \"success\": true,\n",
      "  \"meta\": {},\n",
      "  \"expectation_config\": {\n",
      "    \"expectation_type\": \"expect_column_values_to_be_in_set\",\n",
      "    \"kwargs\": {\n",
      "      \"column\": \"article_id\",\n",
      "      \"value_set\": [\n",
      "        \"100L\",\n",
      "        \"200XL\",\n",
      "        \"300M\",\n",
      "        \"400S\",\n",
      "        \"500M\"\n",
      "      ],\n",
      "      \"result_format\": \"BASIC\"\n",
      "    },\n",
      "    \"meta\": {}\n",
      "  },\n",
      "  \"result\": {\n",
      "    \"element_count\": 6,\n",
      "    \"missing_count\": 0,\n",
      "    \"missing_percent\": 0.0,\n",
      "    \"unexpected_count\": 0,\n",
      "    \"unexpected_percent\": 0.0,\n",
      "    \"unexpected_percent_total\": 0.0,\n",
      "    \"unexpected_percent_nonmissing\": 0.0,\n",
      "    \"partial_unexpected_list\": []\n",
      "  }\n",
      "}\n"
     ]
    }
   ],
   "source": [
    "print(transactions_df.expect_column_values_to_be_in_set('article_id', article_id))"
   ]
  },
  {
   "cell_type": "code",
   "execution_count": 98,
   "id": "377dd367",
   "metadata": {},
   "outputs": [
    {
     "name": "stdout",
     "output_type": "stream",
     "text": [
      "{\n",
      "  \"exception_info\": {\n",
      "    \"raised_exception\": false,\n",
      "    \"exception_traceback\": null,\n",
      "    \"exception_message\": null\n",
      "  },\n",
      "  \"success\": false,\n",
      "  \"meta\": {},\n",
      "  \"expectation_config\": {\n",
      "    \"expectation_type\": \"expect_column_values_to_be_in_set\",\n",
      "    \"kwargs\": {\n",
      "      \"column\": \"article_id\",\n",
      "      \"value_set\": [\n",
      "        \"100L\",\n",
      "        \"200XL\",\n",
      "        \"300M\",\n",
      "        \"400S\",\n",
      "        \"500M\"\n",
      "      ],\n",
      "      \"result_format\": \"BASIC\"\n",
      "    },\n",
      "    \"meta\": {}\n",
      "  },\n",
      "  \"result\": {\n",
      "    \"element_count\": 10,\n",
      "    \"missing_count\": 0,\n",
      "    \"missing_percent\": 0.0,\n",
      "    \"unexpected_count\": 3,\n",
      "    \"unexpected_percent\": 30.0,\n",
      "    \"unexpected_percent_total\": 30.0,\n",
      "    \"unexpected_percent_nonmissing\": 30.0,\n",
      "    \"partial_unexpected_list\": [\n",
      "      \"100KL\",\n",
      "      \"800S\",\n",
      "      \"800S\"\n",
      "    ]\n",
      "  }\n",
      "}\n"
     ]
    }
   ],
   "source": [
    "print(transactions_faulty_df.expect_column_values_to_be_in_set('article_id', article_id))"
   ]
  }
 ],
 "metadata": {
  "kernelspec": {
   "display_name": "Python 3 (ipykernel)",
   "language": "python",
   "name": "python3"
  },
  "language_info": {
   "codemirror_mode": {
    "name": "ipython",
    "version": 3
   },
   "file_extension": ".py",
   "mimetype": "text/x-python",
   "name": "python",
   "nbconvert_exporter": "python",
   "pygments_lexer": "ipython3",
   "version": "3.8.10"
  }
 },
 "nbformat": 4,
 "nbformat_minor": 5
}
